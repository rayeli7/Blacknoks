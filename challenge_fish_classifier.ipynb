{
  "nbformat": 4,
  "nbformat_minor": 0,
  "metadata": {
    "colab": {
      "name": "challenge_fish_classifier.ipynb",
      "provenance": [],
      "collapsed_sections": [],
      "authorship_tag": "ABX9TyMdDdqWQ/cOJPjLXFi1zLHp",
      "include_colab_link": true
    },
    "kernelspec": {
      "display_name": "Python 3",
      "name": "python3"
    },
    "language_info": {
      "name": "python"
    },
    "accelerator": "GPU"
  },
  "cells": [
    {
      "cell_type": "markdown",
      "metadata": {
        "id": "view-in-github",
        "colab_type": "text"
      },
      "source": [
        "<a href=\"https://colab.research.google.com/github/rayeli7/Blacknoks/blob/master/challenge_fish_classifier.ipynb\" target=\"_parent\"><img src=\"https://colab.research.google.com/assets/colab-badge.svg\" alt=\"Open In Colab\"/></a>"
      ]
    },
    {
      "cell_type": "code",
      "metadata": {
        "id": "_3mPfUGIecEK",
        "colab": {
          "base_uri": "https://localhost:8080/"
        },
        "outputId": "33983b5a-566c-40e6-b76f-76b9d93ce23d"
      },
      "source": [
        "!pip install split-folders -q\n",
        "!pip install sweetviz\n",
        "!pip install augmentor"
      ],
      "execution_count": null,
      "outputs": [
        {
          "output_type": "stream",
          "text": [
            "Collecting sweetviz\n",
            "\u001b[?25l  Downloading https://files.pythonhosted.org/packages/95/88/90186a8dd0255a2cccdecc557ba89cd3efe125f07204958e4315bf0b4ae4/sweetviz-2.1.3-py3-none-any.whl (15.1MB)\n",
            "\u001b[K     |████████████████████████████████| 15.1MB 191kB/s \n",
            "\u001b[?25hRequirement already satisfied: matplotlib>=3.1.3 in /usr/local/lib/python3.7/dist-packages (from sweetviz) (3.2.2)\n",
            "Requirement already satisfied: importlib-resources>=1.2.0 in /usr/local/lib/python3.7/dist-packages (from sweetviz) (5.2.0)\n",
            "Requirement already satisfied: pandas!=1.0.0,!=1.0.1,!=1.0.2,>=0.25.3 in /usr/local/lib/python3.7/dist-packages (from sweetviz) (1.1.5)\n",
            "Requirement already satisfied: numpy>=1.16.0 in /usr/local/lib/python3.7/dist-packages (from sweetviz) (1.19.5)\n",
            "Requirement already satisfied: jinja2>=2.11.1 in /usr/local/lib/python3.7/dist-packages (from sweetviz) (2.11.3)\n",
            "Collecting tqdm>=4.43.0\n",
            "\u001b[?25l  Downloading https://files.pythonhosted.org/packages/7a/ec/f8ff3ccfc4e59ce619a66a0bf29dc3b49c2e8c07de29d572e191c006eaa2/tqdm-4.61.2-py2.py3-none-any.whl (76kB)\n",
            "\u001b[K     |████████████████████████████████| 81kB 12.9MB/s \n",
            "\u001b[?25hRequirement already satisfied: scipy>=1.3.2 in /usr/local/lib/python3.7/dist-packages (from sweetviz) (1.4.1)\n",
            "Requirement already satisfied: cycler>=0.10 in /usr/local/lib/python3.7/dist-packages (from matplotlib>=3.1.3->sweetviz) (0.10.0)\n",
            "Requirement already satisfied: kiwisolver>=1.0.1 in /usr/local/lib/python3.7/dist-packages (from matplotlib>=3.1.3->sweetviz) (1.3.1)\n",
            "Requirement already satisfied: python-dateutil>=2.1 in /usr/local/lib/python3.7/dist-packages (from matplotlib>=3.1.3->sweetviz) (2.8.1)\n",
            "Requirement already satisfied: pyparsing!=2.0.4,!=2.1.2,!=2.1.6,>=2.0.1 in /usr/local/lib/python3.7/dist-packages (from matplotlib>=3.1.3->sweetviz) (2.4.7)\n",
            "Requirement already satisfied: zipp>=3.1.0; python_version < \"3.10\" in /usr/local/lib/python3.7/dist-packages (from importlib-resources>=1.2.0->sweetviz) (3.5.0)\n",
            "Requirement already satisfied: pytz>=2017.2 in /usr/local/lib/python3.7/dist-packages (from pandas!=1.0.0,!=1.0.1,!=1.0.2,>=0.25.3->sweetviz) (2018.9)\n",
            "Requirement already satisfied: MarkupSafe>=0.23 in /usr/local/lib/python3.7/dist-packages (from jinja2>=2.11.1->sweetviz) (2.0.1)\n",
            "Requirement already satisfied: six in /usr/local/lib/python3.7/dist-packages (from cycler>=0.10->matplotlib>=3.1.3->sweetviz) (1.15.0)\n",
            "Installing collected packages: tqdm, sweetviz\n",
            "  Found existing installation: tqdm 4.41.1\n",
            "    Uninstalling tqdm-4.41.1:\n",
            "      Successfully uninstalled tqdm-4.41.1\n",
            "Successfully installed sweetviz-2.1.3 tqdm-4.61.2\n",
            "Collecting augmentor\n",
            "  Downloading https://files.pythonhosted.org/packages/cb/79/861f38d5830cff631e30e33b127076bfef8ac98171e51daa06df0118c75f/Augmentor-0.2.8-py2.py3-none-any.whl\n",
            "Requirement already satisfied: tqdm>=4.9.0 in /usr/local/lib/python3.7/dist-packages (from augmentor) (4.61.2)\n",
            "Requirement already satisfied: numpy>=1.11.0 in /usr/local/lib/python3.7/dist-packages (from augmentor) (1.19.5)\n",
            "Requirement already satisfied: future>=0.16.0 in /usr/local/lib/python3.7/dist-packages (from augmentor) (0.16.0)\n",
            "Requirement already satisfied: Pillow>=5.2.0 in /usr/local/lib/python3.7/dist-packages (from augmentor) (7.1.2)\n",
            "Installing collected packages: augmentor\n",
            "Successfully installed augmentor-0.2.8\n"
          ],
          "name": "stdout"
        }
      ]
    },
    {
      "cell_type": "code",
      "metadata": {
        "id": "1gElBg1it78E"
      },
      "source": [
        "#importing needed libraries\n",
        "\n",
        "import pandas as pd\n",
        "import numpy as np\n",
        "import seaborn as sns\n",
        "import tensorflow as tf\n",
        "import cv2\n",
        "import os\n",
        "import pathlib\n",
        "import PIL #Python Imaging Library\n",
        "import splitfolders\n",
        "import imageio\n",
        "import Augmentor\n",
        "\n",
        "\n",
        "\n",
        "import matplotlib.pyplot as plt\n",
        "import matplotlib.mlab as mlab\n",
        "import matplotlib\n",
        "plt.style.use('ggplot')\n",
        "from matplotlib.pyplot import figure\n",
        "\n",
        "%matplotlib inline\n",
        "\n",
        "from tensorflow import keras\n",
        "from tensorflow import\n",
        "from tensorflow.keras import layers\n",
        "from tensorflow.keras.models import Sequential\n",
        "from tensorflow.keras.preprocessing.image import ImageDataGenerator"
      ],
      "execution_count": null,
      "outputs": []
    },
    {
      "cell_type": "markdown",
      "metadata": {
        "id": "MVSpP48AvT24"
      },
      "source": [
        "# Data  Augmentation and Cleaning\n"
      ]
    },
    {
      "cell_type": "code",
      "metadata": {
        "id": "hkLJiGpWub_Z",
        "colab": {
          "base_uri": "https://localhost:8080/",
          "height": 69
        },
        "outputId": "0abed8e2-c637-4301-8b84-4f268ae2962d"
      },
      "source": [
        "#import data\n",
        "dataset_url = 'https://groups.inf.ed.ac.uk/f4k/GROUNDTRUTH/RECOG/Archive/fishRecognition_GT.tar'\n",
        "data_dir = tf.keras.utils.get_file('fish_image', origin=dataset_url,  cache_dir='.', untar=True)\n",
        "data_dir\n"
      ],
      "execution_count": null,
      "outputs": [
        {
          "output_type": "stream",
          "text": [
            "Downloading data from https://groups.inf.ed.ac.uk/f4k/GROUNDTRUTH/RECOG/Archive/fishRecognition_GT.tar\n",
            "510918656/510912000 [==============================] - 26s 0us/step\n"
          ],
          "name": "stdout"
        },
        {
          "output_type": "execute_result",
          "data": {
            "application/vnd.google.colaboratory.intrinsic+json": {
              "type": "string"
            },
            "text/plain": [
              "'./datasets/fish_image'"
            ]
          },
          "metadata": {
            "tags": []
          },
          "execution_count": 3
        }
      ]
    },
    {
      "cell_type": "code",
      "metadata": {
        "colab": {
          "base_uri": "https://localhost:8080/"
        },
        "id": "Q6YqakE3s2b2",
        "outputId": "05054107-74af-48b5-baeb-85d5643c089c"
      },
      "source": [
        "data_dir = pathlib.Path(data_dir)\n",
        "total_image_count = len(list(data_dir.glob('*/*.png')))\n",
        "print(total_image_count)\n",
        "data_dir\n",
        "\n"
      ],
      "execution_count": null,
      "outputs": [
        {
          "output_type": "stream",
          "text": [
            "27370\n"
          ],
          "name": "stdout"
        },
        {
          "output_type": "execute_result",
          "data": {
            "text/plain": [
              "PosixPath('datasets/fish_image')"
            ]
          },
          "metadata": {
            "tags": []
          },
          "execution_count": 4
        }
      ]
    },
    {
      "cell_type": "code",
      "metadata": {
        "id": "ILPEtVjwjxx6"
      },
      "source": [
        "#CREATING VARIABLES FOR NUMBER OF IMAGES IN EACH SPECIES\n",
        "fish_01_len = len(list(data_dir.glob('fish_01/*')))\n",
        "fish_02_len = len(list(data_dir.glob('fish_02/*')))\n",
        "fish_03_len = len(list(data_dir.glob('fish_03/*')))\n",
        "fish_04_len = len(list(data_dir.glob('fish_04/*')))\n",
        "fish_05_len = len(list(data_dir.glob('fish_05/*')))\n",
        "fish_06_len = len(list(data_dir.glob('fish_06/*')))\n",
        "fish_07_len = len(list(data_dir.glob('fish_07/*')))\n",
        "fish_08_len = len(list(data_dir.glob('fish_08/*')))\n",
        "fish_09_len = len(list(data_dir.glob('fish_09/*')))\n",
        "fish_10_len = len(list(data_dir.glob('fish_10/*')))\n",
        "fish_11_len = len(list(data_dir.glob('fish_11/*')))\n",
        "fish_12_len = len(list(data_dir.glob('fish_12/*')))\n",
        "fish_13_len = len(list(data_dir.glob('fish_13/*')))\n",
        "fish_14_len = len(list(data_dir.glob('fish_14/*')))\n",
        "fish_15_len = len(list(data_dir.glob('fish_15/*')))\n",
        "fish_16_len = len(list(data_dir.glob('fish_16/*')))\n",
        "fish_17_len = len(list(data_dir.glob('fish_17/*')))\n",
        "fish_18_len = len(list(data_dir.glob('fish_18/*')))\n",
        "fish_19_len = len(list(data_dir.glob('fish_19/*')))\n",
        "fish_20_len = len(list(data_dir.glob('fish_20/*')))\n",
        "fish_21_len = len(list(data_dir.glob('fish_21/*')))\n",
        "fish_22_len = len(list(data_dir.glob('fish_22/*')))\n",
        "fish_23_len = len(list(data_dir.glob('fish_23/*')))"
      ],
      "execution_count": null,
      "outputs": []
    },
    {
      "cell_type": "code",
      "metadata": {
        "colab": {
          "base_uri": "https://localhost:8080/",
          "height": 771
        },
        "id": "sw_je1srvxVT",
        "outputId": "28dd8757-a1db-429d-a95d-7c37aa0401d4"
      },
      "source": [
        "#visualising data using a dataframe\n",
        "data_dict = {'Species': ['Dascyllus reticulatus', 'Plectroglyphidodon dickii', 'Chromis chrysura', 'Amphiprion clarkii', 'Chaetodon lunulatus', 'Chaetodon trifascialis', 'Myripristis kuntee', 'Acanthurus nigrofuscus', 'Hemigymnus fasciatus', 'Neoniphon sammara', 'Abudefduf vaigiensis', 'Canthigaster valentini', 'Pomacentrus moluccensis', 'Zebrasoma scopas', 'Hemigymnus melapterus', 'Lutjanus fulvus', 'Scolopsis bilineata', 'Scaridae','Pempheris vanicolensis', 'Zanclus cornutus', 'Neoglyphidodon nigroris', 'Balistapus undulatus', 'Siganus fuscescens' ], \n",
        "        'Count': [fish_01_len,\n",
        "                  fish_02_len,\n",
        "                  fish_03_len,\n",
        "                  fish_04_len,\n",
        "                  fish_05_len,\n",
        "                  fish_06_len,\n",
        "                  fish_07_len,\n",
        "                  fish_08_len,\n",
        "                  fish_09_len,\n",
        "                  fish_10_len,\n",
        "                  fish_11_len,\n",
        "                  fish_12_len,\n",
        "                  fish_13_len,\n",
        "                  fish_14_len,\n",
        "                  fish_15_len,\n",
        "                  fish_16_len,\n",
        "                  fish_17_len,\n",
        "                  fish_18_len,\n",
        "                  fish_19_len,\n",
        "                  fish_20_len,\n",
        "                  fish_21_len,\n",
        "                  fish_22_len, \n",
        "                  fish_23_len]}  \n",
        " \n",
        "df = pd.DataFrame(data_dict)  \n",
        "df"
      ],
      "execution_count": null,
      "outputs": [
        {
          "output_type": "execute_result",
          "data": {
            "text/html": [
              "<div>\n",
              "<style scoped>\n",
              "    .dataframe tbody tr th:only-of-type {\n",
              "        vertical-align: middle;\n",
              "    }\n",
              "\n",
              "    .dataframe tbody tr th {\n",
              "        vertical-align: top;\n",
              "    }\n",
              "\n",
              "    .dataframe thead th {\n",
              "        text-align: right;\n",
              "    }\n",
              "</style>\n",
              "<table border=\"1\" class=\"dataframe\">\n",
              "  <thead>\n",
              "    <tr style=\"text-align: right;\">\n",
              "      <th></th>\n",
              "      <th>Species</th>\n",
              "      <th>Count</th>\n",
              "    </tr>\n",
              "  </thead>\n",
              "  <tbody>\n",
              "    <tr>\n",
              "      <th>0</th>\n",
              "      <td>Dascyllus reticulatus</td>\n",
              "      <td>12112</td>\n",
              "    </tr>\n",
              "    <tr>\n",
              "      <th>1</th>\n",
              "      <td>Plectroglyphidodon dickii</td>\n",
              "      <td>2683</td>\n",
              "    </tr>\n",
              "    <tr>\n",
              "      <th>2</th>\n",
              "      <td>Chromis chrysura</td>\n",
              "      <td>3593</td>\n",
              "    </tr>\n",
              "    <tr>\n",
              "      <th>3</th>\n",
              "      <td>Amphiprion clarkii</td>\n",
              "      <td>4049</td>\n",
              "    </tr>\n",
              "    <tr>\n",
              "      <th>4</th>\n",
              "      <td>Chaetodon lunulatus</td>\n",
              "      <td>2534</td>\n",
              "    </tr>\n",
              "    <tr>\n",
              "      <th>5</th>\n",
              "      <td>Chaetodon trifascialis</td>\n",
              "      <td>190</td>\n",
              "    </tr>\n",
              "    <tr>\n",
              "      <th>6</th>\n",
              "      <td>Myripristis kuntee</td>\n",
              "      <td>450</td>\n",
              "    </tr>\n",
              "    <tr>\n",
              "      <th>7</th>\n",
              "      <td>Acanthurus nigrofuscus</td>\n",
              "      <td>218</td>\n",
              "    </tr>\n",
              "    <tr>\n",
              "      <th>8</th>\n",
              "      <td>Hemigymnus fasciatus</td>\n",
              "      <td>241</td>\n",
              "    </tr>\n",
              "    <tr>\n",
              "      <th>9</th>\n",
              "      <td>Neoniphon sammara</td>\n",
              "      <td>299</td>\n",
              "    </tr>\n",
              "    <tr>\n",
              "      <th>10</th>\n",
              "      <td>Abudefduf vaigiensis</td>\n",
              "      <td>98</td>\n",
              "    </tr>\n",
              "    <tr>\n",
              "      <th>11</th>\n",
              "      <td>Canthigaster valentini</td>\n",
              "      <td>147</td>\n",
              "    </tr>\n",
              "    <tr>\n",
              "      <th>12</th>\n",
              "      <td>Pomacentrus moluccensis</td>\n",
              "      <td>181</td>\n",
              "    </tr>\n",
              "    <tr>\n",
              "      <th>13</th>\n",
              "      <td>Zebrasoma scopas</td>\n",
              "      <td>90</td>\n",
              "    </tr>\n",
              "    <tr>\n",
              "      <th>14</th>\n",
              "      <td>Hemigymnus melapterus</td>\n",
              "      <td>42</td>\n",
              "    </tr>\n",
              "    <tr>\n",
              "      <th>15</th>\n",
              "      <td>Lutjanus fulvus</td>\n",
              "      <td>206</td>\n",
              "    </tr>\n",
              "    <tr>\n",
              "      <th>16</th>\n",
              "      <td>Scolopsis bilineata</td>\n",
              "      <td>49</td>\n",
              "    </tr>\n",
              "    <tr>\n",
              "      <th>17</th>\n",
              "      <td>Scaridae</td>\n",
              "      <td>56</td>\n",
              "    </tr>\n",
              "    <tr>\n",
              "      <th>18</th>\n",
              "      <td>Pempheris vanicolensis</td>\n",
              "      <td>29</td>\n",
              "    </tr>\n",
              "    <tr>\n",
              "      <th>19</th>\n",
              "      <td>Zanclus cornutus</td>\n",
              "      <td>21</td>\n",
              "    </tr>\n",
              "    <tr>\n",
              "      <th>20</th>\n",
              "      <td>Neoglyphidodon nigroris</td>\n",
              "      <td>16</td>\n",
              "    </tr>\n",
              "    <tr>\n",
              "      <th>21</th>\n",
              "      <td>Balistapus undulatus</td>\n",
              "      <td>41</td>\n",
              "    </tr>\n",
              "    <tr>\n",
              "      <th>22</th>\n",
              "      <td>Siganus fuscescens</td>\n",
              "      <td>25</td>\n",
              "    </tr>\n",
              "  </tbody>\n",
              "</table>\n",
              "</div>"
            ],
            "text/plain": [
              "                      Species  Count\n",
              "0       Dascyllus reticulatus  12112\n",
              "1   Plectroglyphidodon dickii   2683\n",
              "2            Chromis chrysura   3593\n",
              "3          Amphiprion clarkii   4049\n",
              "4         Chaetodon lunulatus   2534\n",
              "5      Chaetodon trifascialis    190\n",
              "6          Myripristis kuntee    450\n",
              "7      Acanthurus nigrofuscus    218\n",
              "8        Hemigymnus fasciatus    241\n",
              "9           Neoniphon sammara    299\n",
              "10       Abudefduf vaigiensis     98\n",
              "11     Canthigaster valentini    147\n",
              "12    Pomacentrus moluccensis    181\n",
              "13           Zebrasoma scopas     90\n",
              "14      Hemigymnus melapterus     42\n",
              "15            Lutjanus fulvus    206\n",
              "16        Scolopsis bilineata     49\n",
              "17                   Scaridae     56\n",
              "18     Pempheris vanicolensis     29\n",
              "19           Zanclus cornutus     21\n",
              "20    Neoglyphidodon nigroris     16\n",
              "21       Balistapus undulatus     41\n",
              "22         Siganus fuscescens     25"
            ]
          },
          "metadata": {
            "tags": []
          },
          "execution_count": 6
        }
      ]
    },
    {
      "cell_type": "code",
      "metadata": {
        "id": "Cw32GjCY7TJP"
      },
      "source": [
        "#assigning variables for fish species directory using os module\n",
        "fish_01_dir = os.path.join('/content/datasets/fish_image/fish_01')\n",
        "fish_02_dir = os.path.join('/content/datasets/fish_image/fish_02')\n",
        "fish_03_dir = os.path.join('/content/datasets/fish_image/fish_03')\n",
        "fish_04_dir = os.path.join('/content/datasets/fish_image/fish_04')\n",
        "fish_05_dir = os.path.join('/content/datasets/fish_image/fish_05')\n",
        "fish_06_dir = os.path.join('/content/datasets/fish_image/fish_06')\n",
        "fish_07_dir = os.path.join('/content/datasets/fish_image/fish_07')\n",
        "fish_08_dir = os.path.join('/content/datasets/fish_image/fish_08')\n",
        "fish_09_dir = os.path.join('/content/datasets/fish_image/fish_09')\n",
        "fish_10_dir = os.path.join('/content/datasets/fish_image/fish_10')\n",
        "fish_11_dir = os.path.join('/content/datasets/fish_image/fish_11')\n",
        "fish_12_dir = os.path.join('/content/datasets/fish_image/fish_12')\n",
        "fish_13_dir = os.path.join('/content/datasets/fish_image/fish_13')\n",
        "fish_14_dir = os.path.join('/content/datasets/fish_image/fish_14')\n",
        "fish_15_dir = os.path.join('/content/datasets/fish_image/fish_15')\n",
        "fish_16_dir = os.path.join('mple\n",
        "[Search domain researchgate.net] https://www.researchgate.net › publication › 294736219_Technology_Startup_Business_Plan_Sample\n",
        "Technology Startup Business Plan Sample. February 2016; Pr/content/datasets/fish_image/fish_16')\n",
        "fish_17_dir = os.path.join('/content/datasets/fish_image/fish_17')\n",
        "fish_18_dir = os.path.join('/content/datasets/fish_image/fish_18')\n",
        "fish_19_dir = os.path.join('/content/datasets/fish_image/fish_19')\n",
        "fish_20_dir = os.path.join('/content/datasets/fish_image/fish_20')\n",
        "fish_21_dir = os.path.join('/content/datasets/fish_image/fish_21')\n",
        "fish_22_dir = os.path.join('/content/datasets/fish_image/fish_22')\n",
        "fish_23_dir = os.path.join('/content/datasets/fish_image/fish_23')\n",
        "\n",
        "\n",
        "#list containing variables of fish speies dir.\n",
        "LIST = (fish_06_dir,fish_07_dir,fish_08_dir,fish_09_dir,fish_10_dir,fish_11_dir,fish_12_dir,fish_13_dir, fish_14_dir,fish_15_dir,fish_16_dir,fish_17_dir,fish_18_dir,\n",
        "     fish_19_dir,fish_20_dir,fish_21_dir,fish_22_dir,fish_23_dir)\n"
      ],
      "execution_count": null,
      "outputs": []
    },
    {
      "cell_type": "markdown",
      "metadata": {
        "id": "Dh2aa4sw7bAE"
      },
      "source": [
        "For loop to augment , image data that passes through it."
      ]
    },
    {
      "cell_type": "code",
      "metadata": {
        "id": "KqgisqvnjlqD",
        "colab": {
          "base_uri": "https://localhost:8080/"
        },
        "outputId": "879e0488-4fdb-4ffd-9135-5a6e75cbb05f"
      },
      "source": [
        "for fish_dir in LIST:\n",
        "    p= Augmentor.Pipeline(str(fish_dir),str(fish_dir),'png')\n",
        "    p.rotate(probability=0.9, max_left_rotation=25, max_right_rotation=25)\n",
        "    p.flip_left_right(probability=0.5)\n",
        "    p.flip_top_bottom(probability=0.5)\n",
        "    p.skew_tilt(probability=0.5)\n",
        "    p.zoom(probability=0.5, min_factor=0.5, max_factor=1.0)\n",
        "    p.random_brightness(probability= 0.5, min_factor=1.1, max_factor=1.5)\n",
        "    p.random_contrast (probability = 0.5, min_factor=1.1, max_factor=1.5)\n",
        "    p.shear(probability = 0.2, max_shear_left = 21, max_shear_right = 23)\n",
        "    p.sample(500)"
      ],
      "execution_count": null,
      "outputs": [
        {
          "output_type": "stream",
          "text": [
            "Initialised with 190 image(s) found.\n",
            "Output directory set to /content/datasets/fish_image/fish_06."
          ],
          "name": "stdout"
        },
        {
          "output_type": "stream",
          "text": [
            "Processing <PIL.Image.Image image mode=RGB size=143x127 at 0x7FBC8E13B790>: 100%|██████████| 500/500 [00:05<00:00, 98.05 Samples/s] \n"
          ],
          "name": "stderr"
        },
        {
          "output_type": "stream",
          "text": [
            "Initialised with 450 image(s) found.\n",
            "Output directory set to /content/datasets/fish_image/fish_07."
          ],
          "name": "stdout"
        },
        {
          "output_type": "stream",
          "text": [
            "Processing <PIL.Image.Image image mode=RGB size=79x100 at 0x7FBC9050CC90>: 100%|██████████| 500/500 [00:02<00:00, 171.09 Samples/s]\n"
          ],
          "name": "stderr"
        },
        {
          "output_type": "stream",
          "text": [
            "Initialised with 218 image(s) found.\n",
            "Output directory set to /content/datasets/fish_image/fish_08."
          ],
          "name": "stdout"
        },
        {
          "output_type": "stream",
          "text": [
            "Processing <PIL.Image.Image image mode=RGB size=100x83 at 0x7FBC8ECFCE10>: 100%|██████████| 500/500 [00:04<00:00, 103.77 Samples/s]\n"
          ],
          "name": "stderr"
        },
        {
          "output_type": "stream",
          "text": [
            "Initialised with 241 image(s) found.\n",
            "Output directory set to /content/datasets/fish_image/fish_09."
          ],
          "name": "stdout"
        },
        {
          "output_type": "stream",
          "text": [
            "Processing <PIL.Image.Image image mode=RGB size=91x81 at 0x7FBC8E16A590>: 100%|██████████| 500/500 [00:05<00:00, 98.22 Samples/s] \n"
          ],
          "name": "stderr"
        },
        {
          "output_type": "stream",
          "text": [
            "Initialised with 299 image(s) found.\n",
            "Output directory set to /content/datasets/fish_image/fish_10."
          ],
          "name": "stdout"
        },
        {
          "output_type": "stream",
          "text": [
            "Processing <PIL.Image.Image image mode=RGB size=111x90 at 0x7FBC8E53B050>: 100%|██████████| 500/500 [00:03<00:00, 135.45 Samples/s]\n"
          ],
          "name": "stderr"
        },
        {
          "output_type": "stream",
          "text": [
            "Initialised with 98 image(s) found.\n",
            "Output directory set to /content/datasets/fish_image/fish_11."
          ],
          "name": "stdout"
        },
        {
          "output_type": "stream",
          "text": [
            "Processing <PIL.Image.Image image mode=RGB size=87x79 at 0x7FBC8E19BE10>: 100%|██████████| 500/500 [00:05<00:00, 98.81 Samples/s] \n"
          ],
          "name": "stderr"
        },
        {
          "output_type": "stream",
          "text": [
            "Initialised with 147 image(s) found.\n",
            "Output directory set to /content/datasets/fish_image/fish_12."
          ],
          "name": "stdout"
        },
        {
          "output_type": "stream",
          "text": [
            "Processing <PIL.Image.Image image mode=RGB size=140x123 at 0x7FBC905185D0>: 100%|██████████| 500/500 [00:04<00:00, 122.66 Samples/s]\n"
          ],
          "name": "stderr"
        },
        {
          "output_type": "stream",
          "text": [
            "Initialised with 181 image(s) found.\n",
            "Output directory set to /content/datasets/fish_image/fish_13."
          ],
          "name": "stdout"
        },
        {
          "output_type": "stream",
          "text": [
            "Processing <PIL.Image.Image image mode=RGB size=256x215 at 0x7FBC8E4070D0>: 100%|██████████| 500/500 [00:06<00:00, 78.73 Samples/s]\n"
          ],
          "name": "stderr"
        },
        {
          "output_type": "stream",
          "text": [
            "Initialised with 90 image(s) found.\n",
            "Output directory set to /content/datasets/fish_image/fish_14."
          ],
          "name": "stdout"
        },
        {
          "output_type": "stream",
          "text": [
            "Processing <PIL.Image.Image image mode=RGB size=123x110 at 0x7FBC8E16AE50>: 100%|██████████| 500/500 [00:03<00:00, 134.89 Samples/s]\n"
          ],
          "name": "stderr"
        },
        {
          "output_type": "stream",
          "text": [
            "Initialised with 42 image(s) found.\n",
            "Output directory set to /content/datasets/fish_image/fish_15."
          ],
          "name": "stdout"
        },
        {
          "output_type": "stream",
          "text": [
            "Processing <PIL.Image.Image image mode=RGB size=100x82 at 0x7FBC8ECF5ED0>: 100%|██████████| 500/500 [00:04<00:00, 119.34 Samples/s]\n"
          ],
          "name": "stderr"
        },
        {
          "output_type": "stream",
          "text": [
            "Initialised with 206 image(s) found.\n",
            "Output directory set to /content/datasets/fish_image/fish_16."
          ],
          "name": "stdout"
        },
        {
          "output_type": "stream",
          "text": [
            "Processing <PIL.Image.Image image mode=RGB size=147x175 at 0x7FBC9008C7D0>: 100%|██████████| 500/500 [00:06<00:00, 73.65 Samples/s]\n"
          ],
          "name": "stderr"
        },
        {
          "output_type": "stream",
          "text": [
            "Initialised with 49 image(s) found.\n",
            "Output directory set to /content/datasets/fish_image/fish_17."
          ],
          "name": "stdout"
        },
        {
          "output_type": "stream",
          "text": [
            "Processing <PIL.Image.Image image mode=RGB size=175x118 at 0x7FBC8ECF5410>: 100%|██████████| 500/500 [00:03<00:00, 137.11 Samples/s]\n"
          ],
          "name": "stderr"
        },
        {
          "output_type": "stream",
          "text": [
            "Initialised with 56 image(s) found.\n",
            "Output directory set to /content/datasets/fish_image/fish_18."
          ],
          "name": "stdout"
        },
        {
          "output_type": "stream",
          "text": [
            "Processing <PIL.Image.Image image mode=RGB size=119x95 at 0x7FBC8ED15490>: 100%|██████████| 500/500 [00:03<00:00, 137.83 Samples/s]\n"
          ],
          "name": "stderr"
        },
        {
          "output_type": "stream",
          "text": [
            "Initialised with 29 image(s) found.\n",
            "Output directory set to /content/datasets/fish_image/fish_19."
          ],
          "name": "stdout"
        },
        {
          "output_type": "stream",
          "text": [
            "Processing <PIL.Image.Image image mode=RGB size=127x126 at 0x7FBC90094A90>: 100%|██████████| 500/500 [00:07<00:00, 68.47 Samples/s]\n"
          ],
          "name": "stderr"
        },
        {
          "output_type": "stream",
          "text": [
            "Initialised with 21 image(s) found.\n",
            "Output directory set to /content/datasets/fish_image/fish_20."
          ],
          "name": "stdout"
        },
        {
          "output_type": "stream",
          "text": [
            "Processing <PIL.Image.Image image mode=RGB size=115x124 at 0x7FBC8E55A190>: 100%|██████████| 500/500 [00:09<00:00, 50.41 Samples/s]\n"
          ],
          "name": "stderr"
        },
        {
          "output_type": "stream",
          "text": [
            "Initialised with 16 image(s) found.\n",
            "Output directory set to /content/datasets/fish_image/fish_21."
          ],
          "name": "stdout"
        },
        {
          "output_type": "stream",
          "text": [
            "Processing <PIL.Image.Image image mode=RGB size=108x91 at 0x7FBC8ED03350>: 100%|██████████| 500/500 [00:03<00:00, 127.52 Samples/s]\n"
          ],
          "name": "stderr"
        },
        {
          "output_type": "stream",
          "text": [
            "Initialised with 41 image(s) found.\n",
            "Output directory set to /content/datasets/fish_image/fish_22."
          ],
          "name": "stdout"
        },
        {
          "output_type": "stream",
          "text": [
            "Processing <PIL.Image.Image image mode=RGB size=179x140 at 0x7FBC8E150890>: 100%|██████████| 500/500 [00:05<00:00, 87.46 Samples/s] \n"
          ],
          "name": "stderr"
        },
        {
          "output_type": "stream",
          "text": [
            "Initialised with 25 image(s) found.\n",
            "Output directory set to /content/datasets/fish_image/fish_23."
          ],
          "name": "stdout"
        },
        {
          "output_type": "stream",
          "text": [
            "Processing <PIL.Image.Image image mode=RGB size=123x89 at 0x7FBC8E16A990>: 100%|██████████| 500/500 [00:04<00:00, 120.60 Samples/s]\n"
          ],
          "name": "stderr"
        }
      ]
    },
    {
      "cell_type": "code",
      "metadata": {
        "id": "fFzvL3wvlb_A"
      },
      "source": [
        "fish_01_len = len(list(data_dir.glob('fish_01/*')))\n",
        "fish_02_len = len(list(data_dir.glob('fish_02/*')))\n",
        "fish_03_len = len(list(data_dir.glob('fish_03/*')))\n",
        "fish_04_len = len(list(data_dir.glob('fish_04/*')))\n",
        "fish_05_len = len(list(data_dir.glob('fish_05/*')))\n",
        "fish_06_len = len(list(data_dir.glob('fish_06/*')))\n",
        "fish_07_len = len(list(data_dir.glob('fish_07/*')))\n",
        "fish_08_len = len(list(data_dir.glob('fish_08/*')))\n",
        "fish_09_len = len(list(data_dir.glob('fish_09/*')))\n",
        "fish_10_len = len(list(data_dir.glob('fish_10/*')))\n",
        "fish_11_len = len(list(data_dir.glob('fish_11/*')))\n",
        "fish_12_len = len(list(data_dir.glob('fish_12/*')))\n",
        "fish_13_len = len(list(data_dir.glob('fish_13/*')))\n",
        "fish_14_len = len(list(data_dir.glob('fish_14/*')))\n",
        "fish_15_len = len(list(data_dir.glob('fish_15/*')))\n",
        "fish_16_len = len(list(data_dir.glob('fish_16/*')))\n",
        "fish_17_len = len(list(data_dir.glob('fish_17/*')))\n",
        "fish_18_len = len(list(data_dir.glob('fish_18/*')))\n",
        "fish_19_len = len(list(data_dir.glob('fish_19/*')))\n",
        "fish_20_len = len(list(data_dir.glob('fish_20/*')))\n",
        "fish_21_len = len(list(data_dir.glob('fish_21/*')))\n",
        "fish_22_len = len(list(data_dir.glob('fish_22/*')))\n",
        "fish_23_len = len(list(data_dir.glob('fish_23/*')))"
      ],
      "execution_count": null,
      "outputs": []
    },
    {
      "cell_type": "code",
      "metadata": {
        "colab": {
          "base_uri": "https://localhost:8080/",
          "height": 771
        },
        "id": "AEmeJciElqU-",
        "outputId": "863c2a30-75b4-4f1f-aafc-5dd1bbd4ef4e"
      },
      "source": [
        "#visualising data using a dataframe\n",
        "data = {'Species': ['Dascyllus reticulatus', 'Plectroglyphidodon dickii', 'Chromis chrysura', 'Amphiprion clarkii', 'Chaetodon lunulatus', 'Chaetodon trifascialis', 'Myripristis kuntee', 'Acanthurus nigrofuscus', 'Hemigymnus fasciatus', 'Neoniphon sammara', 'Abudefduf vaigiensis', 'Canthigaster valentini', 'Pomacentrus moluccensis', 'Zebrasoma scopas', 'Hemigymnus melapterus', 'Lutjanus fulvus', 'Scolopsis bilineata', 'Scaridae','Pempheris vanicolensis', 'Zanclus cornutus', 'Neoglyphidodon nigroris', 'Balistapus undulatus', 'Siganus fuscescens' ], \n",
        "        'Count': [fish_01_len,\n",
        "                  fish_02_len,\n",
        "                  fish_03_len,\n",
        "                  fish_04_len,\n",
        "                  fish_05_len,\n",
        "                  fish_06_len,\n",
        "                  fish_07_len,\n",
        "                  fish_08_len,\n",
        "                  fish_09_len,\n",
        "                  fish_10_len,\n",
        "                  fish_11_len,\n",
        "                  fish_12_len,\n",
        "                  fish_13_len,\n",
        "                  fish_14_len,\n",
        "                  fish_15_len,\n",
        "                  fish_16_len,\n",
        "                  fish_17_len,\n",
        "                  fish_18_len,\n",
        "                  fish_19_len,\n",
        "                  fish_20_len,\n",
        "                  fish_21_len,\n",
        "                  fish_22_len, \n",
        "                  fish_23_len]}  \n",
        " \n",
        "df = pd.DataFrame(data)  \n",
        "df"
      ],
      "execution_count": null,
      "outputs": [
        {
          "output_type": "execute_result",
          "data": {
            "text/html": [
              "<div>\n",
              "<style scoped>\n",
              "    .dataframe tbody tr th:only-of-type {\n",
              "        vertical-align: middle;\n",
              "    }\n",
              "\n",
              "    .dataframe tbody tr th {\n",
              "        vertical-align: top;\n",
              "    }\n",
              "\n",
              "    .dataframe thead th {\n",
              "        text-align: right;\n",
              "    }\n",
              "</style>\n",
              "<table border=\"1\" class=\"dataframe\">\n",
              "  <thead>\n",
              "    <tr style=\"text-align: right;\">\n",
              "      <th></th>\n",
              "      <th>Species</th>\n",
              "      <th>Count</th>\n",
              "    </tr>\n",
              "  </thead>\n",
              "  <tbody>\n",
              "    <tr>\n",
              "      <th>0</th>\n",
              "      <td>Dascyllus reticulatus</td>\n",
              "      <td>12112</td>\n",
              "    </tr>\n",
              "    <tr>\n",
              "      <th>1</th>\n",
              "      <td>Plectroglyphidodon dickii</td>\n",
              "      <td>2683</td>\n",
              "    </tr>\n",
              "    <tr>\n",
              "      <th>2</th>\n",
              "      <td>Chromis chrysura</td>\n",
              "      <td>3593</td>\n",
              "    </tr>\n",
              "    <tr>\n",
              "      <th>3</th>\n",
              "      <td>Amphiprion clarkii</td>\n",
              "      <td>4049</td>\n",
              "    </tr>\n",
              "    <tr>\n",
              "      <th>4</th>\n",
              "      <td>Chaetodon lunulatus</td>\n",
              "      <td>2534</td>\n",
              "    </tr>\n",
              "    <tr>\n",
              "      <th>5</th>\n",
              "      <td>Chaetodon trifascialis</td>\n",
              "      <td>690</td>\n",
              "    </tr>\n",
              "    <tr>\n",
              "      <th>6</th>\n",
              "      <td>Myripristis kuntee</td>\n",
              "      <td>950</td>\n",
              "    </tr>\n",
              "    <tr>\n",
              "      <th>7</th>\n",
              "      <td>Acanthurus nigrofuscus</td>\n",
              "      <td>718</td>\n",
              "    </tr>\n",
              "    <tr>\n",
              "      <th>8</th>\n",
              "      <td>Hemigymnus fasciatus</td>\n",
              "      <td>741</td>\n",
              "    </tr>\n",
              "    <tr>\n",
              "      <th>9</th>\n",
              "      <td>Neoniphon sammara</td>\n",
              "      <td>799</td>\n",
              "    </tr>\n",
              "    <tr>\n",
              "      <th>10</th>\n",
              "      <td>Abudefduf vaigiensis</td>\n",
              "      <td>598</td>\n",
              "    </tr>\n",
              "    <tr>\n",
              "      <th>11</th>\n",
              "      <td>Canthigaster valentini</td>\n",
              "      <td>647</td>\n",
              "    </tr>\n",
              "    <tr>\n",
              "      <th>12</th>\n",
              "      <td>Pomacentrus moluccensis</td>\n",
              "      <td>681</td>\n",
              "    </tr>\n",
              "    <tr>\n",
              "      <th>13</th>\n",
              "      <td>Zebrasoma scopas</td>\n",
              "      <td>590</td>\n",
              "    </tr>\n",
              "    <tr>\n",
              "      <th>14</th>\n",
              "      <td>Hemigymnus melapterus</td>\n",
              "      <td>542</td>\n",
              "    </tr>\n",
              "    <tr>\n",
              "      <th>15</th>\n",
              "      <td>Lutjanus fulvus</td>\n",
              "      <td>706</td>\n",
              "    </tr>\n",
              "    <tr>\n",
              "      <th>16</th>\n",
              "      <td>Scolopsis bilineata</td>\n",
              "      <td>549</td>\n",
              "    </tr>\n",
              "    <tr>\n",
              "      <th>17</th>\n",
              "      <td>Scaridae</td>\n",
              "      <td>556</td>\n",
              "    </tr>\n",
              "    <tr>\n",
              "      <th>18</th>\n",
              "      <td>Pempheris vanicolensis</td>\n",
              "      <td>529</td>\n",
              "    </tr>\n",
              "    <tr>\n",
              "      <th>19</th>\n",
              "      <td>Zanclus cornutus</td>\n",
              "      <td>521</td>\n",
              "    </tr>\n",
              "    <tr>\n",
              "      <th>20</th>\n",
              "      <td>Neoglyphidodon nigroris</td>\n",
              "      <td>516</td>\n",
              "    </tr>\n",
              "    <tr>\n",
              "      <th>21</th>\n",
              "      <td>Balistapus undulatus</td>\n",
              "      <td>541</td>\n",
              "    </tr>\n",
              "    <tr>\n",
              "      <th>22</th>\n",
              "      <td>Siganus fuscescens</td>\n",
              "      <td>525</td>\n",
              "    </tr>\n",
              "  </tbody>\n",
              "</table>\n",
              "</div>"
            ],
            "text/plain": [
              "                      Species  Count\n",
              "0       Dascyllus reticulatus  12112\n",
              "1   Plectroglyphidodon dickii   2683\n",
              "2            Chromis chrysura   3593\n",
              "3          Amphiprion clarkii   4049\n",
              "4         Chaetodon lunulatus   2534\n",
              "5      Chaetodon trifascialis    690\n",
              "6          Myripristis kuntee    950\n",
              "7      Acanthurus nigrofuscus    718\n",
              "8        Hemigymnus fasciatus    741\n",
              "9           Neoniphon sammara    799\n",
              "10       Abudefduf vaigiensis    598\n",
              "11     Canthigaster valentini    647\n",
              "12    Pomacentrus moluccensis    681\n",
              "13           Zebrasoma scopas    590\n",
              "14      Hemigymnus melapterus    542\n",
              "15            Lutjanus fulvus    706\n",
              "16        Scolopsis bilineata    549\n",
              "17                   Scaridae    556\n",
              "18     Pempheris vanicolensis    529\n",
              "19           Zanclus cornutus    521\n",
              "20    Neoglyphidodon nigroris    516\n",
              "21       Balistapus undulatus    541\n",
              "22         Siganus fuscescens    525"
            ]
          },
          "metadata": {
            "tags": []
          },
          "execution_count": 10
        }
      ]
    },
    {
      "cell_type": "code",
      "metadata": {
        "id": "2DNU-jqVMpKH",
        "colab": {
          "base_uri": "https://localhost:8080/"
        },
        "outputId": "bbba2f91-ae31-4032-cafd-994098d98c51"
      },
      "source": [
        "img =imageio.imread('/content/datasets/fish_image/fish_01/fish_000007020001_00764.png')\n",
        "img.shape"
      ],
      "execution_count": null,
      "outputs": [
        {
          "output_type": "execute_result",
          "data": {
            "text/plain": [
              "(77, 88, 3)"
            ]
          },
          "metadata": {
            "tags": []
          },
          "execution_count": 11
        }
      ]
    },
    {
      "cell_type": "code",
      "metadata": {
        "id": "PqZpbuKZUI7m",
        "colab": {
          "base_uri": "https://localhost:8080/"
        },
        "outputId": "6717b42d-c910-41bb-8ce0-00d756d0db62"
      },
      "source": [
        "#Split the image dataset into 90/10 train/test\n",
        "splitfolders.ratio(\"/content/datasets/fish_image\", output=\"/content/fish_dataset\", seed=1337, ratio=(.9, .1), group_prefix=None) # default valuesi"
      ],
      "execution_count": null,
      "outputs": [
        {
          "output_type": "stream",
          "text": [
            "Copying files: 36370 files [00:05, 6675.77 files/s]\n"
          ],
          "name": "stderr"
        }
      ]
    },
    {
      "cell_type": "code",
      "metadata": {
        "id": "l0f2chcmrTNp"
      },
      "source": [
        "\n",
        "train_datagen = ImageDataGenerator(rescale = 1./255.)\n",
        "\n",
        "test_datagen = ImageDataGenerator( rescale = 1./255. )\n"
      ],
      "execution_count": null,
      "outputs": []
    },
    {
      "cell_type": "code",
      "metadata": {
        "id": "O0b0lPfoWygS",
        "colab": {
          "base_uri": "https://localhost:8080/"
        },
        "outputId": "67aac59e-89ca-462d-c266-853b1baf27f7"
      },
      "source": [
        "#preprocessing\n",
        "training_set = train_datagen.flow_from_directory('/content/fish_dataset/train',\n",
        "                                                 target_size = (180, 180),\n",
        "                                                 batch_size = 32,\n",
        "                                                 class_mode = 'sparse')"
      ],
      "execution_count": null,
      "outputs": [
        {
          "output_type": "stream",
          "text": [
            "Found 32723 images belonging to 23 classes.\n"
          ],
          "name": "stdout"
        }
      ]
    },
    {
      "cell_type": "code",
      "metadata": {
        "id": "-_0mrr1CYCrI",
        "colab": {
          "base_uri": "https://localhost:8080/"
        },
        "outputId": "3a5981ce-2e9b-4db7-c7c9-e8066d51cee6"
      },
      "source": [
        "test_set = test_datagen.flow_from_directory('/content/fish_dataset/val',\n",
        "                                            target_size = (180, 180),\n",
        "                                            batch_size = 32,\n",
        "                                            class_mode = 'sparse')\n"
      ],
      "execution_count": null,
      "outputs": [
        {
          "output_type": "stream",
          "text": [
            "Found 3647 images belonging to 23 classes.\n"
          ],
          "name": "stdout"
        }
      ]
    },
    {
      "cell_type": "code",
      "metadata": {
        "id": "HHyx_WoLu9iO",
        "colab": {
          "base_uri": "https://localhost:8080/",
          "height": 133
        },
        "outputId": "656a35d0-9045-42dc-b592-eb7ac3754921"
      },
      "source": [
        "num_classes = 23\n",
        "\n",
        "model = Sequential([\n",
        "  layers.Conv2D(16, 3, padding='same', activation='relu'),\n",
        "  layers.MaxPooling2D(),\n",
        "  layers.Conv2D(32, 3, padding='same', activation='relu'),\n",
        "  layers.MaxPooling2D(),\n",
        "  layers.Conv2D(64, 3, padding='same', activation='relu'),\n",
        "  layers.MaxPooling2D(),\n",
        "  layers.Flatten(),\n",
        "  layers.Dropout(0.5)\n",
        "  layers.Dense(128, activation='relu'),\n",
        "  layers.Dense(num_classes)\n",
        "])\n",
        "\n",
        "model.compile(optimizer='adam',\n",
        "              loss=tf.keras.losses.SparseCategoricalCrossentropy(from_logits=True),\n",
        "              metrics=['accuracy'])\n",
        "              \n",
        "history= model.fit(\n",
        "  training_set,\n",
        "  validation_data=test_set,\n",
        "  epochs=32,\n",
        "  steps_per_epoch=len(training_set),\n",
        "  validation_steps=len(test_set))"
      ],
      "execution_count": null,
      "outputs": [
        {
          "output_type": "error",
          "ename": "SyntaxError",
          "evalue": "ignored",
          "traceback": [
            "\u001b[0;36m  File \u001b[0;32m\"<ipython-input-22-59c01de64ca3>\"\u001b[0;36m, line \u001b[0;32m12\u001b[0m\n\u001b[0;31m    layers.Dense(128, activation='relu'),\u001b[0m\n\u001b[0m         ^\u001b[0m\n\u001b[0;31mSyntaxError\u001b[0m\u001b[0;31m:\u001b[0m invalid syntax\n"
          ]
        }
      ]
    },
    {
      "cell_type": "code",
      "metadata": {
        "id": "boUXQWU-1-SN",
        "colab": {
          "base_uri": "https://localhost:8080/",
          "height": 299
        },
        "outputId": "9bbe7b02-03e2-4213-8fa4-f96d34e4cab4"
      },
      "source": [
        "import matplotlib.pyplot as plt\n",
        "acc = history.history['accuracy']\n",
        "val_acc = history.history['val_accuracy']\n",
        "loss = history.history['loss']\n",
        "val_loss = history.history['val_loss']\n",
        "\n",
        "epochs = range(len(acc))\n",
        "\n",
        "plt.plot(epochs, acc, 'r', label='Training accuracy')\n",
        "plt.plot(epochs, val_acc, 'b', label='Validation accuracy')\n",
        "plt.title('Training and validation accuracy')\n",
        "plt.legend(loc=0)\n",
        "plt.figure()\n",
        "\n",
        "\n",
        "plt.show()"
      ],
      "execution_count": null,
      "outputs": [
        {
          "output_type": "display_data",
          "data": {
            "image/png": "[encoded data removed]",
            "text/plain": [
              "<Figure size 432x288 with 1 Axes>"
            ]
          },
          "metadata": {
            "tags": [],
            "needs_background": "light"
          }
        },
        {
          "output_type": "display_data",
          "data": {
            "text/plain": [
              "<Figure size 432x288 with 0 Axes>"
            ]
          },
          "metadata": {
            "tags": []
          }
        }
      ]
    },
    {
      "cell_type": "code",
      "metadata": {
        "colab": {
          "base_uri": "https://localhost:8080/",
          "height": 299
        },
        "id": "OoawV0vYsxd5",
        "outputId": "594eb3ec-ed04-4ce0-bbe3-dffffa8efc67"
      },
      "source": [
        "plt.plot(epochs, loss, 'r', label='Training loss')\n",
        "plt.plot(epochs, val_loss, 'b', label='Validation loss')\n",
        "plt.title('Training and validation accuracy')\n",
        "plt.legend(loc=0)\n",
        "plt.figure()\n",
        "\n",
        "\n",
        "plt.show()"
      ],
      "execution_count": null,
      "outputs": [
        {
          "output_type": "display_data",
          "data": {
            "image/png": "[encoded data removed]",
            "text/plain": [
              "<Figure size 432x288 with 1 Axes>"
            ]
          },
          "metadata": {
            "tags": [],
            "needs_background": "light"
          }
        },
        {
          "output_type": "display_data",
          "data": {
            "text/plain": [
              "<Figure size 432x288 with 0 Axes>"
            ]
          },
          "metadata": {
            "tags": []
          }
        }
      ]
    },
    {
      "cell_type": "code",
      "metadata": {
        "id": "wLBeXOt8Ch6y"
      },
      "source": [
        "model.save('fish.h5')"
      ],
      "execution_count": null,
      "outputs": []
    },
    {
      "cell_type": "code",
      "metadata": {
        "id": "lRGU9-y2QRxQ"
      },
      "source": [
        ""
      ],
      "execution_count": null,
      "outputs": []
    }
  ]
}